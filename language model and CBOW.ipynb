{
 "cells": [
  {
   "cell_type": "code",
   "execution_count": 1,
   "metadata": {},
   "outputs": [],
   "source": [
    "import torch\n",
    "import torch.nn as nn\n",
    "import torch.nn.functional as F\n",
    "import torch.optim as optim\n",
    "from tqdm import tqdm\n",
    "import matplotlib.pyplot as plt\n",
    "\n",
    "%matplotlib inline\n",
    "%load_ext autoreload\n",
    "%autoreload 2"
   ]
  },
  {
   "cell_type": "markdown",
   "metadata": {},
   "source": [
    "## Trigram model"
   ]
  },
  {
   "cell_type": "code",
   "execution_count": 2,
   "metadata": {},
   "outputs": [],
   "source": [
    "#training data\n",
    "test_sentence = \"\"\"When forty winters shall besiege thy brow,\n",
    "And dig deep trenches in thy beauty's field,\n",
    "Thy youth's proud livery so gazed on now,\n",
    "Will be a totter'd weed of small worth held:\n",
    "Then being asked, where all thy beauty lies,\n",
    "Where all the treasure of thy lusty days;\n",
    "To say, within thine own deep sunken eyes,\n",
    "Were an all-eating shame, and thriftless praise.\n",
    "How much more praise deserv'd thy beauty's use,\n",
    "If thou couldst answer 'This fair child of mine\n",
    "Shall sum my count, and make my old excuse,'\n",
    "Proving his beauty by succession thine!\n",
    "This were to be new made when thou art old,\n",
    "And see thy blood warm when thou feel'st it cold.\"\"\"\n",
    "words = test_sentence.split()"
   ]
  },
  {
   "cell_type": "code",
   "execution_count": 3,
   "metadata": {},
   "outputs": [],
   "source": [
    "trigrams = [([words[i], words[i+1]], words[i+2]) for i in range(len(words)-2)]\n",
    "unique_words = set(words)\n",
    "word_2_idx = {word:i for i, word in enumerate(unique_words)}"
   ]
  },
  {
   "cell_type": "code",
   "execution_count": 4,
   "metadata": {},
   "outputs": [
    {
     "data": {
      "text/plain": [
       "[(['When', 'forty'], 'winters'),\n",
       " (['forty', 'winters'], 'shall'),\n",
       " (['winters', 'shall'], 'besiege')]"
      ]
     },
     "execution_count": 4,
     "metadata": {},
     "output_type": "execute_result"
    }
   ],
   "source": [
    "#take a look at trigrams\n",
    "trigrams[:3]"
   ]
  },
  {
   "cell_type": "code",
   "execution_count": 5,
   "metadata": {},
   "outputs": [],
   "source": [
    "#built a simple trigram model\n",
    "class NGramModel(nn.Module):\n",
    "    def __init__(self, embedding_size, context_size, hidden_size, vocab_size):\n",
    "        super(NGramModel, self).__init__()\n",
    "        self.embedding_layer = nn.Embedding(vocab_size, embedding_size)\n",
    "        self.embed_to_hidden = nn.Linear(embedding_size*context_size, hidden_size)\n",
    "        self.hidden_to_output = nn.Linear(hidden_size, vocab_size)\n",
    "    \n",
    "    def forward(self, input):\n",
    "        embed = self.embedding_layer(input).view((1,-1))\n",
    "        hidden = F.relu(self.embed_to_hidden(embed))\n",
    "        logits = self.hidden_to_output(hidden)\n",
    "        return logits"
   ]
  },
  {
   "cell_type": "code",
   "execution_count": 6,
   "metadata": {},
   "outputs": [],
   "source": [
    "#define training parameters\n",
    "EMBED_SIZE = 10\n",
    "CONTEXT_SIZE = 2\n",
    "HIDDEN_SIZE = 128\n",
    "\n",
    "losses = list()\n",
    "loss_func = nn.CrossEntropyLoss()\n",
    "model = NGramModel(EMBED_SIZE, CONTEXT_SIZE, HIDDEN_SIZE, len(unique_words))\n",
    "optimizer = optim.Adam(model.parameters(), lr = 1e-3)"
   ]
  },
  {
   "cell_type": "code",
   "execution_count": 7,
   "metadata": {},
   "outputs": [
    {
     "name": "stdout",
     "output_type": "stream",
     "text": [
      "EPOCH: 0, Loss: 537.920\n",
      "EPOCH: 1, Loss: 419.672\n",
      "EPOCH: 2, Loss: 313.713\n",
      "EPOCH: 3, Loss: 203.049\n",
      "EPOCH: 4, Loss: 114.615\n",
      "EPOCH: 5, Loss: 64.986\n",
      "EPOCH: 6, Loss: 40.815\n",
      "EPOCH: 7, Loss: 28.149\n",
      "EPOCH: 8, Loss: 20.913\n",
      "EPOCH: 9, Loss: 16.427\n"
     ]
    }
   ],
   "source": [
    "EPOCH = 10\n",
    "for epoch in range(EPOCH):\n",
    "    total_loss = 0.0\n",
    "    for context, target in trigrams:\n",
    "        #map context words to indexes, minibatch size = 1\n",
    "        context_idx = torch.tensor([word_2_idx[word] for word in context], dtype=torch.long)\n",
    "        #zero out gradients\n",
    "        model.zero_grad()\n",
    "        #take the input and make prediction\n",
    "        output = model(context_idx)\n",
    "        loss = loss_func(output, torch.tensor([word_2_idx[target]], dtype = torch.long))\n",
    "        #backpropogation and update \n",
    "        loss.backward()\n",
    "        optimizer.step()\n",
    "        #get loss and add to total loss\n",
    "        total_loss += loss.item()\n",
    "    print(\"EPOCH: {}, Loss: {:.3f}\".format(epoch, total_loss))\n",
    "    losses.append(total_loss)"
   ]
  },
  {
   "cell_type": "code",
   "execution_count": 8,
   "metadata": {},
   "outputs": [
    {
     "data": {
      "text/plain": [
       "Text(0,0.5,'losses')"
      ]
     },
     "execution_count": 8,
     "metadata": {},
     "output_type": "execute_result"
    },
    {
     "data": {
      "image/png": "[encoded data removed]",
      "text/plain": [
       "<Figure size 504x360 with 1 Axes>"
      ]
     },
     "metadata": {},
     "output_type": "display_data"
    }
   ],
   "source": [
    "fig, ax = plt.subplots(nrows=1, ncols=1, figsize=(7,5))\n",
    "ax.plot(losses)\n",
    "ax.set_title(\"Loss vs. Epoch\")\n",
    "ax.set_xlabel(\"Epoch\")\n",
    "ax.set_ylabel(\"losses\")"
   ]
  },
  {
   "cell_type": "code",
   "execution_count": 9,
   "metadata": {},
   "outputs": [
    {
     "name": "stdout",
     "output_type": "stream",
     "text": [
      "Input context: ['trenches', 'in'], predicted word: thy, true word: thy\n"
     ]
    }
   ],
   "source": [
    "#use the model to make prediction\n",
    "model.eval()\n",
    "sample_x = trigrams[10]\n",
    "test_x = torch.tensor([word_2_idx[w] for w in sample_x[0]], dtype = torch.long)\n",
    "y_pred = torch.max(model(test_x)[0],0)[1].item()\n",
    "\n",
    "idx_2_word = {v:k for k,v in word_2_idx.items()}\n",
    "print(\"Input context: {}, predicted word: {}, true word: {}\".format(sample_x[0], idx_2_word[y_pred], sample_x[1]))"
   ]
  },
  {
   "cell_type": "markdown",
   "metadata": {},
   "source": [
    "## CBOW"
   ]
  },
  {
   "cell_type": "code",
   "execution_count": 10,
   "metadata": {},
   "outputs": [
    {
     "name": "stdout",
     "output_type": "stream",
     "text": [
      "[(['We', 'are', 'to', 'study'], 'about'), (['are', 'about', 'study', 'the'], 'to'), (['about', 'to', 'the', 'idea'], 'study'), (['to', 'study', 'idea', 'of'], 'the'), (['study', 'the', 'of', 'a'], 'idea')]\n"
     ]
    }
   ],
   "source": [
    "CONTEXT_SIZE = 2  # 2 words to the left, 2 to the right\n",
    "raw_text = \"\"\"We are about to study the idea of a computational process.\n",
    "Computational processes are abstract beings that inhabit computers.\n",
    "As they evolve, processes manipulate other abstract things called data.\n",
    "The evolution of a process is directed by a pattern of rules\n",
    "called a program. People create programs to direct processes. In effect,\n",
    "we conjure the spirits of the computer with our spells.\"\"\".split()\n",
    "\n",
    "# By deriving a set from `raw_text`, we deduplicate the array\n",
    "vocab = set(raw_text)\n",
    "vocab_size = len(vocab)\n",
    "\n",
    "word_to_ix = {word: i for i, word in enumerate(vocab)}\n",
    "data = []\n",
    "for i in range(2, len(raw_text) - 2):\n",
    "    context = [raw_text[i - 2], raw_text[i - 1],\n",
    "               raw_text[i + 1], raw_text[i + 2]]\n",
    "    target = raw_text[i]\n",
    "    data.append((context, target))\n",
    "print(data[:5])"
   ]
  },
  {
   "cell_type": "code",
   "execution_count": 11,
   "metadata": {},
   "outputs": [],
   "source": [
    "class CBOW(nn.Module):\n",
    "    \n",
    "    def __init__(self, hidden_size, embedding_size, vocab_size):\n",
    "        super(CBOW, self).__init__()\n",
    "        #this is the V embedding matrix\n",
    "        self.embed_layer = nn.Embedding(vocab_size, embedding_size)\n",
    "        self.Linear1 = nn.Linear(embedding_size, hidden_size)\n",
    "        #this is the U embedding matrix\n",
    "        self.Linear2 = nn.Linear(hidden_size, vocab_size)\n",
    "        \n",
    "    def forward(self, inputs):\n",
    "        embed = sum(self.embed_layer(inputs)).view((1,-1))\n",
    "        out = F.relu(self.Linear1(embed))\n",
    "        logits = self.Linear2(out)\n",
    "        return logits\n",
    "\n",
    "    def get_embedding(self, word, word_2_idx):\n",
    "        idx = torch.tensor([word_2_idx[word]], dtype = torch.long)\n",
    "        return self.embed_layer(idx).view((1,-1))"
   ]
  },
  {
   "cell_type": "code",
   "execution_count": 12,
   "metadata": {},
   "outputs": [],
   "source": [
    "#define parameters\n",
    "hidden_size = 128\n",
    "embedding_size = 100\n",
    "EPOCH = 10\n",
    "\n",
    "CBOW_model = CBOW(hidden_size, embedding_size, vocab_size)\n",
    "loss_func = nn.CrossEntropyLoss()\n",
    "optimizer = optim.Adam(CBOW_model.parameters(), lr=1e-3)"
   ]
  },
  {
   "cell_type": "code",
   "execution_count": 13,
   "metadata": {},
   "outputs": [
    {
     "name": "stdout",
     "output_type": "stream",
     "text": [
      "EPOCH: 0, Loss: 237.864\n",
      "EPOCH: 1, Loss: 142.201\n",
      "EPOCH: 2, Loss: 72.363\n",
      "EPOCH: 3, Loss: 26.678\n",
      "EPOCH: 4, Loss: 10.842\n",
      "EPOCH: 5, Loss: 5.990\n",
      "EPOCH: 6, Loss: 3.927\n",
      "EPOCH: 7, Loss: 2.817\n",
      "EPOCH: 8, Loss: 2.146\n",
      "EPOCH: 9, Loss: 1.698\n"
     ]
    }
   ],
   "source": [
    "cbow_loss = list()\n",
    "\n",
    "for epoch in range(EPOCH):\n",
    "    total_loss = 0.0\n",
    "    for context, label in data:\n",
    "        #get training data\n",
    "        x_train = torch.tensor([word_to_ix[w] for w in context], dtype = torch.long)\n",
    "        #zero gradients\n",
    "        CBOW_model.zero_grad()\n",
    "        #make prediction and compute loss\n",
    "        preds = CBOW_model(x_train)\n",
    "        loss = loss_func(preds, torch.tensor([word_to_ix[label]], dtype = torch.long))\n",
    "        #backpropogate\n",
    "        loss.backward()\n",
    "        optimizer.step()\n",
    "        \n",
    "        total_loss += loss.item()\n",
    "    print(\"EPOCH: {}, Loss: {:.3f}\".format(epoch, total_loss))\n",
    "    cbow_loss.append(total_loss)"
   ]
  },
  {
   "cell_type": "code",
   "execution_count": 24,
   "metadata": {},
   "outputs": [
    {
     "name": "stdout",
     "output_type": "stream",
     "text": [
      "Context word: ['that', 'inhabit', 'As', 'they'], true word: computers., pred word: computers.\n",
      "Context word: ['to', 'direct', 'In', 'effect,'], true word: processes., pred word: processes.\n",
      "Context word: ['they', 'evolve,', 'manipulate', 'other'], true word: processes, pred word: processes\n",
      "Context word: ['are', 'about', 'study', 'the'], true word: to, pred word: to\n",
      "Context word: ['study', 'the', 'of', 'a'], true word: idea, pred word: idea\n"
     ]
    }
   ],
   "source": [
    "#use model to make prediction\n",
    "CBOW_model.eval()\n",
    "\n",
    "for i in range(5):\n",
    "    #make 5 predictions\n",
    "    random_idx = torch.randint(low = 0, high = len(data), size=(1,)).item()\n",
    "    context, target = data[random_idx]\n",
    "    x_test = torch.tensor([word_to_ix[w] for w in context], dtype=torch.long)\n",
    "    y_pred = CBOW_model(x_test)\n",
    "    pred_word = torch.max(y_pred[0], 0)[1].item()\n",
    "    ix_to_word = {v:k for k,v in word_to_ix.items()}\n",
    "    print(\"Context word: {}, true word: {}, pred word: {}\".format(context, target, ix_to_word[pred_word]))"
   ]
  },
  {
   "cell_type": "code",
   "execution_count": null,
   "metadata": {},
   "outputs": [],
   "source": []
  }
 ],
 "metadata": {
  "kernelspec": {
   "display_name": "Python 3",
   "language": "python",
   "name": "python3"
  },
  "language_info": {
   "codemirror_mode": {
    "name": "ipython",
    "version": 3
   },
   "file_extension": ".py",
   "mimetype": "text/x-python",
   "name": "python",
   "nbconvert_exporter": "python",
   "pygments_lexer": "ipython3",
   "version": "3.5.5"
  }
 },
 "nbformat": 4,
 "nbformat_minor": 2
}
