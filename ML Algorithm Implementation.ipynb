{
 "cells": [
  {
   "cell_type": "code",
   "execution_count": 1,
   "metadata": {},
   "outputs": [],
   "source": [
    "from sklearn.datasets import load_iris\n",
    "from sklearn.neighbors import KNeighborsClassifier\n",
    "from sklearn.cluster import KMeans"
   ]
  },
  {
   "cell_type": "code",
   "execution_count": 2,
   "metadata": {},
   "outputs": [],
   "source": [
    "import numpy as np\n",
    "from collections import Counter\n",
    "from sklearn.model_selection import train_test_split\n",
    "from sklearn.metrics import accuracy_score\n",
    "import gc"
   ]
  },
  {
   "cell_type": "code",
   "execution_count": 3,
   "metadata": {},
   "outputs": [],
   "source": [
    "%reload_ext autoreload\n",
    "%autoreload 2"
   ]
  },
  {
   "cell_type": "markdown",
   "metadata": {},
   "source": [
    "## KNN"
   ]
  },
  {
   "cell_type": "code",
   "execution_count": 4,
   "metadata": {},
   "outputs": [],
   "source": [
    "class KNN:\n",
    "    def __init__(self, k, dist_method='l2'):\n",
    "        self.k = k\n",
    "        self.dist_method=dist_method\n",
    "        if dist_method not in ['l2', 'cosine']:\n",
    "            raise ValueError(\"Please use either L2-distance or Cosine distance\")\n",
    "        # initialize training data to None in the Constructor\n",
    "        self.x = None\n",
    "        self.y = None\n",
    "    \n",
    "    def l2_norm(self, a):\n",
    "        return np.sqrt(np.sum(np.square(a)))\n",
    "    \n",
    "    def calc_dist(self, a, b):\n",
    "        if self.dist_method=='l2':\n",
    "            return self.l2_norm(a-b)\n",
    "        elif self.dist_method=='cosine':\n",
    "            return np.dot(a,b)/(self.l2_norm(a) * self.l2_norm(b))\n",
    "        \n",
    "    def fit(self, x, y):\n",
    "        self.x = x\n",
    "        self.y = y\n",
    "    \n",
    "    def find_majority(self, labels):\n",
    "        counts = Counter(labels)\n",
    "        output = counts.most_common()[0][0]\n",
    "        return output\n",
    "    \n",
    "    def predict(self, x_test):\n",
    "        #find the k nearest neighbors\n",
    "        preds = []\n",
    "        for x_t in x_test:\n",
    "            distances = [(self.calc_dist(x_train, x_t), y_train) for x_train, y_train in zip(self.x, self.y)]\n",
    "            neighbor_labels = [y_tr for x_tr, y_tr in sorted(distances, key=lambda x:x[0])[:self.k]]\n",
    "            preds.append(self.find_majority(neighbor_labels))\n",
    "        \n",
    "        return preds"
   ]
  },
  {
   "cell_type": "code",
   "execution_count": 5,
   "metadata": {},
   "outputs": [
    {
     "name": "stdout",
     "output_type": "stream",
     "text": [
      "(127, 4) (23, 4)\n"
     ]
    }
   ],
   "source": [
    "data = load_iris()\n",
    "X, y = data['data'], data['target']\n",
    "SEED = 4213\n",
    "X_train, X_test, y_train, y_test = train_test_split(X, y, test_size=0.15, random_state=SEED)\n",
    "print(X_train.shape, X_test.shape)"
   ]
  },
  {
   "cell_type": "code",
   "execution_count": 6,
   "metadata": {},
   "outputs": [],
   "source": [
    "#define a hyperparameter\n",
    "k_list = [3,5,7]"
   ]
  },
  {
   "cell_type": "code",
   "execution_count": 7,
   "metadata": {},
   "outputs": [
    {
     "name": "stdout",
     "output_type": "stream",
     "text": [
      "k=3, Sklearn implementation accu score: 1.0\n",
      "My implementation accu score: 1.0\n",
      "k=5, Sklearn implementation accu score: 1.0\n",
      "My implementation accu score: 1.0\n",
      "k=7, Sklearn implementation accu score: 1.0\n",
      "My implementation accu score: 1.0\n"
     ]
    }
   ],
   "source": [
    "for k in k_list:\n",
    "    knn_sklearn = KNeighborsClassifier(n_neighbors=k)\n",
    "    knn_ = KNN(k=k)\n",
    "    #fit\n",
    "    knn_sklearn.fit(X_train, y_train)\n",
    "    knn_.fit(X_train, y_train)\n",
    "    #pred\n",
    "    y_pred_sklearn = knn_sklearn.predict(X_test)\n",
    "    y_pred_me = knn_.predict(X_test)\n",
    "    print(f\"k={k}, Sklearn implementation accu score: {accuracy_score(y_pred_sklearn, y_test)}\\nMy implementation accu score: {accuracy_score(y_pred_me, y_test)}\")"
   ]
  },
  {
   "cell_type": "markdown",
   "metadata": {},
   "source": [
    "## KMeans"
   ]
  },
  {
   "cell_type": "code",
   "execution_count": 8,
   "metadata": {},
   "outputs": [],
   "source": [
    "import random"
   ]
  },
  {
   "cell_type": "code",
   "execution_count": 9,
   "metadata": {},
   "outputs": [
    {
     "data": {
      "text/plain": [
       "(array([1, 2, 3, 4, 1, 1, 2, 1]),\n",
       " array([0.01252186, 0.9180744 , 0.17612495, 0.17832535, 0.77903934,\n",
       "        0.37883592, 0.28059209, 0.10873536]))"
      ]
     },
     "execution_count": 9,
     "metadata": {},
     "output_type": "execute_result"
    }
   ],
   "source": [
    "x=np.array([1,2,3,4,1,1,2,1])\n",
    "y = np.random.rand(8)\n",
    "x, y"
   ]
  },
  {
   "cell_type": "code",
   "execution_count": 10,
   "metadata": {},
   "outputs": [
    {
     "data": {
      "text/plain": [
       "array([0.01252186, 0.77903934, 0.37883592, 0.10873536])"
      ]
     },
     "execution_count": 10,
     "metadata": {},
     "output_type": "execute_result"
    }
   ],
   "source": [
    "#[0,4,5,7]\n",
    "y[x==1]"
   ]
  },
  {
   "cell_type": "code",
   "execution_count": 11,
   "metadata": {},
   "outputs": [
    {
     "data": {
      "text/plain": [
       "array([0.44485395, 0.49865611, 0.95944225, 1.14000097, 0.87161578])"
      ]
     },
     "execution_count": 11,
     "metadata": {},
     "output_type": "execute_result"
    }
   ],
   "source": [
    "def _calc_l2(x):\n",
    "    return np.sqrt(np.sum(np.square(x), axis=1))\n",
    "\n",
    "x = np.random.rand(3)\n",
    "y = np.random.rand(5,3)\n",
    "\n",
    "_calc_l2(x-y)"
   ]
  },
  {
   "cell_type": "code",
   "execution_count": 21,
   "metadata": {},
   "outputs": [],
   "source": [
    "class KMeansV1:\n",
    "    def __init__(self, n_clusters, method='l2'):\n",
    "        self.n_clusters = n_clusters\n",
    "        self.X = None\n",
    "        if method not in ['l2','cosine']:\n",
    "            raise ValueError(\"Please use either L2-distance or Cosine distance\")\n",
    "        self.method = method\n",
    "    \n",
    "    def _calc_l2(self, x):\n",
    "        return np.sqrt(np.sum(np.square(x)))\n",
    "    \n",
    "    def _calc_dist(self, a, b):\n",
    "        if self.method=='l2':\n",
    "            return self._calc_l2(a-b)\n",
    "        elif self.method=='cosine':\n",
    "            return np.dot(a,b)/(self._calc_l2(a)*self._calc_l2(b))\n",
    "    \n",
    "    def fit(self, x):\n",
    "        self.X = x\n",
    "        N, d = x.shape\n",
    "        #initialize cluster labels for each data point\n",
    "        self.cluster_labels = np.zeros(N)\n",
    "        #initialize cluster centers\n",
    "        self.cluster_centers = [self.X[random.randint(0,N-1)] for _ in range(self.n_clusters)]\n",
    "        #iteratively update cluster label for each data point\n",
    "        stop = False\n",
    "        while not stop:\n",
    "            stop = True\n",
    "            for index, x_tr in enumerate(x):\n",
    "                #assign x_tr to the cluser which has the closest distance to the cluster center\n",
    "                cur_cluster = np.argmin([self._calc_dist(x_tr, centroid) for centroid in self.cluster_centers])\n",
    "                prev_cluster = self.cluster_labels[index]\n",
    "                # does not converge\n",
    "                if cur_cluster != prev_cluster:\n",
    "                    self.cluster_labels[index] = cur_cluster\n",
    "                    stop = False\n",
    "            \n",
    "            #update cluster centroids\n",
    "            for i in range(self.n_clusters):\n",
    "                self.cluster_centers[i] = np.mean(self.X[self.cluster_labels==i], axis=0)\n",
    "                \n",
    "    def predict(self, x_test):\n",
    "        preds = []\n",
    "        for x_te in x_test:\n",
    "            cluster_label = np.argmin([self._calc_dist(x_te, centroid) for centroid in self.cluster_centers])\n",
    "            preds.append(cluster_label)\n",
    "        \n",
    "        return preds        "
   ]
  },
  {
   "cell_type": "code",
   "execution_count": 28,
   "metadata": {},
   "outputs": [
    {
     "name": "stdout",
     "output_type": "stream",
     "text": [
      "SKlearn prediction: Counter({1: 9, 0: 8, 2: 6})\n",
      "My prediction: Counter({1: 9, 0: 8, 2: 6})\n",
      "SKlearn prediction: Counter({2: 8, 4: 5, 1: 4, 3: 3, 0: 3})\n",
      "My prediction: Counter({2: 8, 0: 6, 3: 3, 1: 3, 4: 3})\n",
      "SKlearn prediction: Counter({6: 5, 3: 4, 0: 4, 4: 3, 2: 3, 1: 3, 5: 1})\n",
      "My prediction: Counter({3: 5, 1: 4, 0: 4, 6: 3, 5: 3, 4: 3, 2: 1})\n"
     ]
    }
   ],
   "source": [
    "for k in k_list:\n",
    "    kmeans_sklearn = KMeans(n_clusters=k)\n",
    "    kmeans_me = KMeansV1(n_clusters=k)\n",
    "    \n",
    "    kmeans_sklearn.fit(X_train)\n",
    "    kmeans_me.fit(X_train)\n",
    "    \n",
    "    sklearn_pred = kmeans_sklearn.predict(X_test)\n",
    "    my_pred = kmeans_me.predict(X_test)\n",
    "    #cluster center labels can be different. As long as data are grouped into the same cluster, implementation is correct\n",
    "    print(f\"SKlearn prediction: {Counter(sklearn_pred)}\\nMy prediction: {Counter(my_pred)}\")"
   ]
  },
  {
   "cell_type": "code",
   "execution_count": 25,
   "metadata": {},
   "outputs": [
    {
     "data": {
      "text/plain": [
       "array([[7.38888889, 3.12222222, 6.18888889, 2.02222222],\n",
       "       [4.69411765, 3.12352941, 1.41176471, 0.21764706],\n",
       "       [5.96470588, 2.76470588, 4.98235294, 1.76470588],\n",
       "       [6.54736842, 3.08947368, 5.50526316, 2.15789474],\n",
       "       [5.46      , 2.565     , 3.855     , 1.175     ],\n",
       "       [6.31      , 2.945     , 4.52      , 1.42      ],\n",
       "       [5.236     , 3.672     , 1.512     , 0.268     ]])"
      ]
     },
     "execution_count": 25,
     "metadata": {},
     "output_type": "execute_result"
    }
   ],
   "source": [
    "kmeans_sklearn.cluster_centers_"
   ]
  },
  {
   "cell_type": "code",
   "execution_count": 26,
   "metadata": {},
   "outputs": [
    {
     "data": {
      "text/plain": [
       "[array([5.01666667, 3.45      , 1.47142857, 0.24761905]),\n",
       " array([6.54736842, 3.11578947, 5.46315789, 2.15263158]),\n",
       " array([7.15      , 2.9       , 5.98333333, 1.83333333]),\n",
       " array([6.20454545, 2.94545455, 4.46818182, 1.39545455]),\n",
       " array([7.575, 3.3  , 6.4  , 2.25 ]),\n",
       " array([5.9875 , 2.75   , 5.0125 , 1.78125]),\n",
       " array([5.43333333, 2.52222222, 3.81666667, 1.16666667])]"
      ]
     },
     "execution_count": 26,
     "metadata": {},
     "output_type": "execute_result"
    }
   ],
   "source": [
    "kmeans_me.cluster_centers"
   ]
  },
  {
   "cell_type": "code",
   "execution_count": null,
   "metadata": {},
   "outputs": [],
   "source": []
  }
 ],
 "metadata": {
  "kernelspec": {
   "display_name": "Python 3",
   "language": "python",
   "name": "python3"
  },
  "language_info": {
   "codemirror_mode": {
    "name": "ipython",
    "version": 3
   },
   "file_extension": ".py",
   "mimetype": "text/x-python",
   "name": "python",
   "nbconvert_exporter": "python",
   "pygments_lexer": "ipython3",
   "version": "3.8.3"
  }
 },
 "nbformat": 4,
 "nbformat_minor": 4
}
