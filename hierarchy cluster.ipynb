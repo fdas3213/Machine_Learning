{
 "cells": [
  {
   "cell_type": "code",
   "execution_count": 1,
   "metadata": {},
   "outputs": [],
   "source": [
    "%reload_ext autoreload\n",
    "%autoreload 2\n",
    "%matplotlib inline"
   ]
  },
  {
   "cell_type": "markdown",
   "metadata": {},
   "source": [
    "Many thanks to this awesome tutorial: https://joernhees.de/blog/2015/08/26/scipy-hierarchical-clustering-and-dendrogram-tutorial/"
   ]
  },
  {
   "cell_type": "code",
   "execution_count": 2,
   "metadata": {},
   "outputs": [],
   "source": [
    "import numpy as np\n",
    "import matplotlib.pyplot as plt\n",
    "from scipy.cluster.hierarchy import dendrogram, linkage\n",
    "np.set_printoptions(precision=5, suppress=True)  # suppress scientific float notation"
   ]
  },
  {
   "cell_type": "markdown",
   "metadata": {},
   "source": [
    "## Generate sample data"
   ]
  },
  {
   "cell_type": "code",
   "execution_count": 3,
   "metadata": {},
   "outputs": [
    {
     "name": "stdout",
     "output_type": "stream",
     "text": [
      "(150, 2)\n"
     ]
    },
    {
     "data": {
      "text/plain": [
       "<matplotlib.collections.PathCollection at 0x7f10c274bcf8>"
      ]
     },
     "execution_count": 3,
     "metadata": {},
     "output_type": "execute_result"
    },
    {
     "data": {
      "image/png": "[encoded data removed]",
      "text/plain": [
       "<Figure size 432x288 with 1 Axes>"
      ]
     },
     "metadata": {},
     "output_type": "display_data"
    }
   ],
   "source": [
    "np.random.seed(42)\n",
    "a = np.random.multivariate_normal([10,0], [[3,1],[1,4]], size = [100,])\n",
    "b = np.random.multivariate_normal([0, 10], [[2,1],[1,4]], size = [50,])\n",
    "X = np.concatenate((a,b), )\n",
    "print(X.shape)\n",
    "plt.scatter(X[:,0], X[:,1])"
   ]
  },
  {
   "cell_type": "code",
   "execution_count": 4,
   "metadata": {},
   "outputs": [
    {
     "name": "stdout",
     "output_type": "stream",
     "text": [
      "(149, 4)\n"
     ]
    }
   ],
   "source": [
    "#generate linkage matrix\n",
    "Z = linkage(X, 'centroid')\n",
    "print(Z.shape)"
   ]
  },
  {
   "cell_type": "code",
   "execution_count": 5,
   "metadata": {},
   "outputs": [
    {
     "data": {
      "text/plain": [
       "0.9588434598315442"
      ]
     },
     "execution_count": 5,
     "metadata": {},
     "output_type": "execute_result"
    }
   ],
   "source": [
    "from scipy.cluster.hierarchy import cophenet\n",
    "from scipy.spatial.distance import pdist\n",
    "\n",
    "c, coph_dists = cophenet(Z, pdist(X))\n",
    "c"
   ]
  },
  {
   "cell_type": "code",
   "execution_count": 6,
   "metadata": {},
   "outputs": [
    {
     "data": {
      "text/plain": [
       "array([66.     , 91.     ,  0.02299,  2.     ])"
      ]
     },
     "execution_count": 6,
     "metadata": {},
     "output_type": "execute_result"
    }
   ],
   "source": [
    "#Z[i] tells us which clusters were merged in i-1th iteration\n",
    "# idx1, idx2, distance, sample count\n",
    "Z[0]"
   ]
  },
  {
   "cell_type": "code",
   "execution_count": 7,
   "metadata": {},
   "outputs": [
    {
     "data": {
      "text/plain": [
       "array([17.     , 69.     ,  0.02481,  2.     ])"
      ]
     },
     "execution_count": 7,
     "metadata": {},
     "output_type": "execute_result"
    }
   ],
   "source": [
    "Z[1]"
   ]
  },
  {
   "cell_type": "code",
   "execution_count": 8,
   "metadata": {},
   "outputs": [
    {
     "data": {
      "text/plain": [
       "array([[ 66.     ,  91.     ,   0.02299,   2.     ],\n",
       "       [ 17.     ,  69.     ,   0.02481,   2.     ],\n",
       "       [ 72.     ,  87.     ,   0.07878,   2.     ],\n",
       "       [  6.     ,  18.     ,   0.10092,   2.     ],\n",
       "       [ 40.     ,  57.     ,   0.10392,   2.     ],\n",
       "       [  0.     ,  93.     ,   0.11289,   2.     ],\n",
       "       [109.     , 134.     ,   0.11337,   2.     ],\n",
       "       [ 28.     ,  68.     ,   0.12189,   2.     ],\n",
       "       [  4.     ,  44.     ,   0.13721,   2.     ],\n",
       "       [ 52.     , 154.     ,   0.15013,   3.     ],\n",
       "       [119.     , 146.     ,   0.1522 ,   2.     ],\n",
       "       [108.     , 120.     ,   0.15921,   2.     ],\n",
       "       [ 48.     ,  75.     ,   0.16427,   2.     ],\n",
       "       [ 43.     ,  82.     ,   0.16567,   2.     ],\n",
       "       [121.     , 129.     ,   0.17229,   2.     ],\n",
       "       [138.     , 144.     ,   0.17445,   2.     ],\n",
       "       [ 16.     ,  58.     ,   0.17723,   2.     ],\n",
       "       [ 34.     ,  77.     ,   0.18201,   2.     ],\n",
       "       [ 99.     , 166.     ,   0.18276,   3.     ],\n",
       "       [ 36.     ,  88.     ,   0.20104,   2.     ]])"
      ]
     },
     "execution_count": 8,
     "metadata": {},
     "output_type": "execute_result"
    }
   ],
   "source": [
    "Z[:20]"
   ]
  },
  {
   "cell_type": "code",
   "execution_count": 9,
   "metadata": {},
   "outputs": [
    {
     "data": {
      "text/plain": [
       "array([[10.22066, -0.69132],\n",
       "       [10.17857, -0.59631],\n",
       "       [10.34825, -0.62268]])"
      ]
     },
     "execution_count": 9,
     "metadata": {},
     "output_type": "execute_result"
    }
   ],
   "source": [
    "#we see that there is an index of 154, which means it's the 5th cluster formed by 40 and 57\n",
    "X[[40, 57,52]]"
   ]
  },
  {
   "cell_type": "code",
   "execution_count": 15,
   "metadata": {},
   "outputs": [
    {
     "data": {
      "text/plain": [
       "<matplotlib.collections.PathCollection at 0x7f0fd197f320>"
      ]
     },
     "execution_count": 15,
     "metadata": {},
     "output_type": "execute_result"
    },
    {
     "data": {
      "image/png": "[encoded data removed]",
      "text/plain": [
       "<Figure size 720x432 with 1 Axes>"
      ]
     },
     "metadata": {},
     "output_type": "display_data"
    }
   ],
   "source": [
    "idxs = [40,52,57]\n",
    "plt.figure(figsize = (10,6))\n",
    "plt.scatter(X[:,0],X[:,1])\n",
    "plt.scatter(X[idxs, 0],X[idxs,1], color = 'r')"
   ]
  },
  {
   "cell_type": "code",
   "execution_count": 14,
   "metadata": {},
   "outputs": [
    {
     "data": {
      "text/plain": [
       "<matplotlib.collections.PathCollection at 0x7f0fd1947f28>"
      ]
     },
     "execution_count": 14,
     "metadata": {},
     "output_type": "execute_result"
    },
    {
     "data": {
      "image/png": "[encoded data removed]",
      "text/plain": [
       "<Figure size 720x432 with 1 Axes>"
      ]
     },
     "metadata": {},
     "output_type": "display_data"
    }
   ],
   "source": [
    "#idx = 166 corrspond to 16 and 58, check out their distance to 99\n",
    "idxs = [16,58,99]\n",
    "plt.figure(figsize=(10,6))\n",
    "plt.scatter(X[:,0], X[:,1])\n",
    "plt.scatter(X[idxs, 0],X[idxs, 1], color = 'g')"
   ]
  },
  {
   "cell_type": "markdown",
   "metadata": {},
   "source": [
    "## Plot dendrogram"
   ]
  },
  {
   "cell_type": "code",
   "execution_count": 17,
   "metadata": {},
   "outputs": [
    {
     "data": {
      "image/png": "[encoded data removed]",
      "text/plain": [
       "<Figure size 1296x432 with 1 Axes>"
      ]
     },
     "metadata": {},
     "output_type": "display_data"
    }
   ],
   "source": [
    "plt.figure(figsize = (18,6))\n",
    "plt.title(\"Hierarchical Clustering Dendrogram\")\n",
    "plt.xlabel(\"sample index\")\n",
    "plt.ylabel(\"distance\")\n",
    "dendrogram(Z, leaf_rotation=90, leaf_font_size=8)\n",
    "plt.show()"
   ]
  },
  {
   "cell_type": "markdown",
   "metadata": {},
   "source": [
    "1. horizontal lines are cluster merges\n",
    "2. vertical line tells you which clusters/labels were part of merge\n",
    "3. heights of horizontal line tells the distance between two clusters"
   ]
  },
  {
   "cell_type": "code",
   "execution_count": 18,
   "metadata": {},
   "outputs": [
    {
     "data": {
      "text/plain": [
       "array([ 4.97156,  5.57279,  7.34446, 14.36102])"
      ]
     },
     "execution_count": 18,
     "metadata": {},
     "output_type": "execute_result"
    }
   ],
   "source": [
    "Z[-4:,2]"
   ]
  },
  {
   "cell_type": "code",
   "execution_count": null,
   "metadata": {},
   "outputs": [],
   "source": []
  }
 ],
 "metadata": {
  "kernelspec": {
   "display_name": "Python 3",
   "language": "python",
   "name": "python3"
  },
  "language_info": {
   "codemirror_mode": {
    "name": "ipython",
    "version": 3
   },
   "file_extension": ".py",
   "mimetype": "text/x-python",
   "name": "python",
   "nbconvert_exporter": "python",
   "pygments_lexer": "ipython3",
   "version": "3.6.3"
  }
 },
 "nbformat": 4,
 "nbformat_minor": 2
}
